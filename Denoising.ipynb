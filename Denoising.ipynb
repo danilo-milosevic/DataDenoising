{
 "cells": [
  {
   "cell_type": "markdown",
   "id": "1c17bef5",
   "metadata": {},
   "source": [
    "- Scikit pipeline?\n",
    "- Napravi grader da proceni koliko je tezak primer i primeni na svim\n",
    "- Import podataka -> Train/Valid split N puta -> Generisanje suma samo za train (da bi mogli da se uverimo da zaista daje dobre rezultate, ako poremetimo valid set mozda greskom dobijemo dobre ili lose rez.) -> \n",
    "    Transformacije (SkewTest+Norm/Stand, SMOTE, Method specific transf) - train na train, apply na valid ->\n",
    "    Trening na train, validacija na valid -> viz i cuvanje\n",
    "- Sacuvaj - za svaku kombinaciju transf, modela i generisanje suma po jedan entry u pd da bi uzeli najbolje\n",
    "- Vizuelizacije - Preciznost standardna za svaki difficulty + broj pogodjenih?, za difficulty-e, grafikon za top 5-10 metoda kao linija, grafikon gde su outlieri x-ovi ali zeleni su dobro a crveni lose klasifikovani\n",
    "- Ako izbacujes ispisi koliko lakih, srednjih, teskih je izbaceno"
   ]
  },
  {
   "cell_type": "markdown",
   "id": "c3dece0e",
   "metadata": {},
   "source": [
    "# Import"
   ]
  },
  {
   "cell_type": "code",
   "execution_count": null,
   "id": "6ca626a4",
   "metadata": {},
   "outputs": [],
   "source": [
    "%%capture\n",
    "%pip install kagglehub openpyxl imbalanced-learn seaborn torch"
   ]
  },
  {
   "cell_type": "code",
   "execution_count": null,
   "id": "5174720a",
   "metadata": {},
   "outputs": [],
   "source": [
    "import kagglehub as kg\n",
    "import numpy as np\n",
    "import pandas as pd\n",
    "from sklearn.model_selection import StratifiedShuffleSplit\n",
    "from sklearn.preprocessing import PowerTransformer, MinMaxScaler\n",
    "from sklearn.base import BaseEstimator, TransformerMixin\n",
    "\n",
    "from imblearn.over_sampling import SMOTE\n",
    "from imblearn.under_sampling import RandomUnderSampler\n",
    "from collections import Counter\n",
    "\n",
    "from sklearn.ensemble import RandomForestClassifier, GradientBoostingClassifier, AdaBoostClassifier\n",
    "from sklearn.neighbors import KNeighborsClassifier\n",
    "from sklearn.svm import SVC\n",
    "from sklearn.multiclass import OneVsOneClassifier, OneVsRestClassifier\n",
    "from sklearn.neural_network import MLPClassifier as MLP\n",
    "from sklearn.ensemble import VotingClassifier"
   ]
  },
  {
   "cell_type": "markdown",
   "id": "d3dad7e8",
   "metadata": {},
   "source": [
    "# Load data"
   ]
  },
  {
   "cell_type": "code",
   "execution_count": null,
   "id": "2077c9ae",
   "metadata": {},
   "outputs": [],
   "source": [
    "path = kg.dataset_download(\"muratkokludataset/dry-bean-dataset\")\n",
    "file_name = '/Dry_Bean_Dataset/Dry_Bean_Dataset.xlsx'\n",
    "print(\"Downloaded at: \", path)\n",
    "data = pd.read_excel(path+file_name)\n",
    "data"
   ]
  },
  {
   "cell_type": "code",
   "execution_count": null,
   "id": "4472ce66",
   "metadata": {},
   "outputs": [],
   "source": []
  }
 ],
 "metadata": {
  "kernelspec": {
   "display_name": "Python 3",
   "language": "python",
   "name": "python3"
  },
  "language_info": {
   "codemirror_mode": {
    "name": "ipython",
    "version": 3
   },
   "file_extension": ".py",
   "mimetype": "text/x-python",
   "name": "python",
   "nbconvert_exporter": "python",
   "pygments_lexer": "ipython3",
   "version": "3.9.11"
  }
 },
 "nbformat": 4,
 "nbformat_minor": 5
}
